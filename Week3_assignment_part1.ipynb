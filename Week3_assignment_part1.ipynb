{
 "cells": [
  {
   "cell_type": "code",
   "execution_count": null,
   "metadata": {},
   "outputs": [
    {
     "name": "stdout",
     "output_type": "stream",
     "text": [
      "Collecting package metadata (current_repodata.json): done\n",
      "Solving environment: | \n",
      "Warning: 4 possible package resolutions (only showing differing packages):\n",
      "  - anaconda/osx-64::ca-certificates-2020.1.1-0, anaconda/osx-64::openssl-1.1.1d-h1de35cc_4\n",
      "  - anaconda/osx-64::ca-certificates-2020.1.1-0, defaults/osx-64::openssl-1.1.1d-h1de35cc_4\n",
      "  - anaconda/osx-64::openssl-1.1.1d-h1de35cc_4, defaults/osx-64::ca-certificates-2020.1.1-0\n",
      "  - defaults/osx-64::ca-certificates-2020.1.1-0, defaults/osx-64::openssl-1.1.1d-h1de35ccdone\n",
      "\n",
      "# All requested packages already installed.\n",
      "\n",
      "Collecting package metadata (current_repodata.json): done\n",
      "Solving environment: done\n",
      "\n",
      "## Package Plan ##\n",
      "\n",
      "  environment location: /opt/anaconda3\n",
      "\n",
      "  added / updated specs:\n",
      "    - beautifulsoup4\n",
      "\n",
      "\n",
      "The following packages will be downloaded:\n",
      "\n",
      "    package                    |            build\n",
      "    ---------------------------|-----------------\n",
      "    certifi-2019.11.28         |           py37_0         156 KB  anaconda\n",
      "    ------------------------------------------------------------\n",
      "                                           Total:         156 KB\n",
      "\n",
      "The following packages will be SUPERSEDED by a higher-priority channel:\n",
      "\n",
      "  certifi                                       conda-forge --> anaconda\n",
      "  conda              conda-forge::conda-4.8.3-py37hc8dfbb8~ --> anaconda::conda-4.8.3-py37_0\n",
      "\n",
      "\n",
      "\n",
      "Downloading and Extracting Packages\n",
      "certifi-2019.11.28   | 156 KB    | ##################################### | 100% \n",
      "Preparing transaction: done\n",
      "Verifying transaction: done\n",
      "Executing transaction: done\n",
      "Collecting package metadata (current_repodata.json): done\n",
      "Solving environment: done\n",
      "\n",
      "# All requested packages already installed.\n",
      "\n",
      "Collecting package metadata (current_repodata.json): done\n",
      "Solving environment: done\n",
      "\n",
      "# All requested packages already installed.\n",
      "\n",
      "Collecting package metadata (current_repodata.json): done\n",
      "Solving environment: | "
     ]
    }
   ],
   "source": [
    "#import all the required libraries\n",
    "\n",
    "#make sure all these libraries are installed \n",
    "\n",
    "!conda install -c conda-forge selenium --yes # Install selenium for conda\n",
    "!conda install -c anaconda beautifulsoup4 --yes #Install beautifulsoup\n",
    "!conda install -c anaconda lxml --yes\n",
    "!conda install -c anaconda html5lib --yes\n",
    "!conda install -c conda-forge folium=0.5.0 --yes # uncomment this line if you haven't completed the Foursquare API lab\n",
    "!conda install -c anaconda wget --yes\n",
    "\n",
    "\n",
    "import numpy as np\n",
    "import urllib.request\n",
    "from selenium import webdriver\n",
    "from bs4 import BeautifulSoup\n",
    "import pandas as pd\n",
    "import folium # map rendering library\n",
    "print(\"All packages have been imported\")\n",
    "#There are Multiple parts to this assignment..\n",
    "#1st is web scraping"
   ]
  },
  {
   "cell_type": "code",
   "execution_count": null,
   "metadata": {},
   "outputs": [],
   "source": [
    "# URL for the wikipedia page is given below\n",
    "wiki_url = \"https://en.wikipedia.org/wiki/List_of_postal_codes_of_Canada:_M\"\n",
    "# assign a variabl to the page or import the page into a variable\n",
    "page = urllib.request.urlopen(wiki_url)"
   ]
  },
  {
   "cell_type": "code",
   "execution_count": null,
   "metadata": {},
   "outputs": [],
   "source": [
    "#convert the page (HTML) into beautiful soupe format\n",
    "soup = BeautifulSoup(page, \"html5lib\")\n",
    "# soup\n",
    "# print(soup.prettify())"
   ]
  },
  {
   "cell_type": "code",
   "execution_count": null,
   "metadata": {},
   "outputs": [],
   "source": [
    "#class=\"wikitable sortable jquery-tablesorter\"\n",
    "all_tables=soup.find_all(\"table\")\n",
    "# all_tables\n",
    "right_table=soup.find('table', class_=\"wikitable sortable\")\n",
    "# right_table\n"
   ]
  },
  {
   "cell_type": "code",
   "execution_count": null,
   "metadata": {},
   "outputs": [],
   "source": [
    "# assigning variables which will be used for loading values in dataframe which will be created later\n",
    "a,b,c=[],[],[]\n",
    "\n",
    "for row in right_table.findAll('tr'):\n",
    "    cells=row.findAll('td')\n",
    "    if len(cells)==3:\n",
    "        a.append(cells[0].find(text=True))\n",
    "        b.append(cells[1].find(text=True))\n",
    "        c.append(cells[2].find(text=True))\n",
    "\n",
    "        \n",
    "\n",
    "# ##uncomment this in order to add a empty neigbourhood with some boruough for validaitng point 4\n",
    "# a.append('V12B')\n",
    "# b.append('test')\n",
    "# c.append('\\n')"
   ]
  },
  {
   "cell_type": "code",
   "execution_count": null,
   "metadata": {},
   "outputs": [],
   "source": [
    "df=pd.DataFrame(a,columns=['Postal Code'])\n",
    "df['Borough']=b\n",
    "df['Neighbourhood']=c\n",
    "# Replacing \\n artifact that we got during creating table from soup\n",
    "df = df.replace('\\n',' ', regex=True)"
   ]
  },
  {
   "cell_type": "code",
   "execution_count": null,
   "metadata": {},
   "outputs": [],
   "source": [
    "df_test = df\n",
    "# removing the empty rows\n",
    "# df_test=df_test[df_test['Neighbourhood'].str.strip().astype(bool)] #\n",
    "\n",
    "df_test = df_test[~df_test.Borough.str.contains(\"Not assigned\")]\n",
    "\n",
    "# checking to see if there are any couloums that are empty\n",
    "# Empty_coloumn_test = df_test[df_test['Borough'].str.contains(\"Not assigned\")] #Not assigned\n",
    "\n",
    "#Reseting the index in order to start indexing from 0\n",
    "# df_test.reset_index(inplace=True)\n",
    "# Removing the extra index column that we got after using reset_index object\n",
    "# df_test.drop(columns=['index'],inplace=True)\n",
    "# appending all the strings together which we get by groupby\n",
    "df_test = df_test.groupby(['Postal Code', 'Borough'], as_index=False).agg({'Neighbourhood': ' '.join})\n",
    "\n",
    "#### If a cell has a borough but a Not assigned neighborhood, then the neighborhood will be the same as the borough\n",
    "\n",
    "# replace the empty Neighbourhood with borough\n",
    "df_test['Neighbourhood'] = np.where((df_test['Neighbourhood'].str.strip().astype(bool) == False), df_test['Borough'], df_test['Neighbourhood'])\n",
    "\n",
    "\n",
    "df_test\n"
   ]
  },
  {
   "cell_type": "code",
   "execution_count": null,
   "metadata": {},
   "outputs": [],
   "source": [
    "df_test.shape\n",
    "##comments lines where used for testing\n",
    "# df_test1 = df_test\n",
    "# df_test1[df_test1['Postal Code'].str.contains(\"M9V\")]\n",
    "# df_test[df_test['Neighbourhood'].str.strip().astype(bool)]"
   ]
  },
  {
   "cell_type": "code",
   "execution_count": null,
   "metadata": {},
   "outputs": [],
   "source": []
  }
 ],
 "metadata": {
  "kernelspec": {
   "display_name": "Python 3",
   "language": "python",
   "name": "python3"
  },
  "language_info": {
   "codemirror_mode": {
    "name": "ipython",
    "version": 3
   },
   "file_extension": ".py",
   "mimetype": "text/x-python",
   "name": "python",
   "nbconvert_exporter": "python",
   "pygments_lexer": "ipython3",
   "version": "3.7.6"
  }
 },
 "nbformat": 4,
 "nbformat_minor": 4
}
